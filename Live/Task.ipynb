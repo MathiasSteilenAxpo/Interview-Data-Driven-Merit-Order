{
 "cells": [
  {
   "cell_type": "code",
   "execution_count": 3,
   "id": "c051fc41",
   "metadata": {},
   "outputs": [],
   "source": [
    "import polars as pl\n",
    "import pandas as pd\n",
    "import plotnine as pn\n",
    "import mizani as mz\n",
    "import numpy as np"
   ]
  },
  {
   "cell_type": "code",
   "execution_count": 14,
   "id": "ffa605ec",
   "metadata": {},
   "outputs": [],
   "source": [
    "plant_params = {\n",
    "    \"MAX_STORAGE_M3\": 25000,\n",
    "    \"MIN_STORAGE_M3\": 1000,\n",
    "    \"TURBINE_POWER_MW\": 100,\n",
    "    \"TURBINE_RATE_M3H\": 250,\n",
    "    \"INITIAL_WATER_LEVEL_PCT\": 0.5,\n",
    "}"
   ]
  }
 ],
 "metadata": {
  "kernelspec": {
   "display_name": "general",
   "language": "python",
   "name": "python3"
  },
  "language_info": {
   "codemirror_mode": {
    "name": "ipython",
    "version": 3
   },
   "file_extension": ".py",
   "mimetype": "text/x-python",
   "name": "python",
   "nbconvert_exporter": "python",
   "pygments_lexer": "ipython3",
   "version": "3.10.0"
  }
 },
 "nbformat": 4,
 "nbformat_minor": 5
}
